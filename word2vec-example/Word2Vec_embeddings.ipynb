{
  "nbformat": 4,
  "nbformat_minor": 0,
  "metadata": {
    "colab": {
      "name": "COMP5623 Using Word2Vec embeddings",
      "provenance": [],
      "collapsed_sections": [],
      "toc_visible": true
    },
    "kernelspec": {
      "name": "python3",
      "display_name": "Python 3"
    }
  },
  "cells": [
    {
      "cell_type": "markdown",
      "metadata": {
        "id": "JtYLDuNmwnnv",
        "colab_type": "text"
      },
      "source": [
        "# News Category Classification using Word2Vec embeddings\n",
        "\n",
        "University of Leeds\n",
        "\n",
        "COMP5623 Artificial Intelligence\n",
        "\n",
        "---\n",
        "\n",
        "We will use two Python libraries:\n",
        "\n",
        "1. **sklearn** a machine learning library\n",
        "\n",
        "2. **Gensim** is a library for unsupervised topic modeling and natural language processing, using modern statistical machine learning\n",
        "\n",
        "---"
      ]
    },
    {
      "cell_type": "markdown",
      "metadata": {
        "id": "ElMkuzUm7sOR",
        "colab_type": "text"
      },
      "source": [
        "\n",
        "# 1. Dataset preparation - 20 Newsgroups\n",
        "\n",
        "We will use sklearn to download **20 Newsgroups** (http://qwone.com/~jason/20Newsgroups/), a public available dataset of approximately 20,000 newsgroup posts, partitioned across 20 different newsgroups.  We will only load 3 categories for this example."
      ]
    },
    {
      "cell_type": "code",
      "metadata": {
        "id": "OAFHvAKcwyH5",
        "colab_type": "code",
        "colab": {}
      },
      "source": [
        "categories = [\n",
        "      'comp.graphics',\n",
        "      'sci.med',\n",
        "      'rec.sport.baseball'\n",
        "]"
      ],
      "execution_count": 0,
      "outputs": []
    },
    {
      "cell_type": "markdown",
      "metadata": {
        "id": "OAFCFVY_yiCD",
        "colab_type": "text"
      },
      "source": [
        "Load the subset of the 20 Newsgroups dataset."
      ]
    },
    {
      "cell_type": "code",
      "metadata": {
        "id": "sD84pKuGwxKF",
        "colab_type": "code",
        "colab": {}
      },
      "source": [
        "from sklearn.datasets import fetch_20newsgroups\n",
        "\n",
        "train_set = fetch_20newsgroups(\n",
        "    subset='train',\n",
        "    categories=categories,\n",
        "    shuffle=True,\n",
        ")"
      ],
      "execution_count": 0,
      "outputs": []
    },
    {
      "cell_type": "markdown",
      "metadata": {
        "id": "jlWIPMyey2DF",
        "colab_type": "text"
      },
      "source": [
        "Look at some sample data."
      ]
    },
    {
      "cell_type": "code",
      "metadata": {
        "id": "zWYaiPTKy5sR",
        "colab_type": "code",
        "colab": {
          "base_uri": "https://localhost:8080/",
          "height": 34
        },
        "outputId": "347d720f-6496-4f74-b689-bf0177e65ef6"
      },
      "source": [
        "train_set.target_names"
      ],
      "execution_count": 32,
      "outputs": [
        {
          "output_type": "execute_result",
          "data": {
            "text/plain": [
              "['comp.graphics', 'rec.sport.baseball', 'sci.med']"
            ]
          },
          "metadata": {
            "tags": []
          },
          "execution_count": 32
        }
      ]
    },
    {
      "cell_type": "code",
      "metadata": {
        "id": "7nLorBMe5iJC",
        "colab_type": "code",
        "colab": {
          "base_uri": "https://localhost:8080/",
          "height": 34
        },
        "outputId": "d3102c0e-0dee-4cb9-de52-0fef8b023341"
      },
      "source": [
        "print(\"Total number of news articles:\", len(train_set.data))"
      ],
      "execution_count": 33,
      "outputs": [
        {
          "output_type": "stream",
          "text": [
            "Total number of news articles: 1775\n"
          ],
          "name": "stdout"
        }
      ]
    },
    {
      "cell_type": "code",
      "metadata": {
        "id": "gciDCHgE5tyj",
        "colab_type": "code",
        "colab": {
          "base_uri": "https://localhost:8080/",
          "height": 187
        },
        "outputId": "555b35b9-565a-4392-f115-ac4cea3b5a0b"
      },
      "source": [
        "print(\"\\n\".join(train_set.data[0].split(\"\\n\")[:10]))"
      ],
      "execution_count": 34,
      "outputs": [
        {
          "output_type": "stream",
          "text": [
            "From: geb@cs.pitt.edu (Gordon Banks)\n",
            "Subject: Re: ORGAN DONATION AND TRANSPLANTATION FACT SHEET\n",
            "Reply-To: geb@cs.pitt.edu (Gordon Banks)\n",
            "Organization: Univ. of Pittsburgh Computer Science\n",
            "Lines: 26\n",
            "\n",
            "In article <1993Apr13.150018.641@lmpsbbs.comm.mot.com> dougb@ecs.comm.mot.com writes:\n",
            "\n",
            ">My wife cannot donate blood because she has been to a malarial region\n",
            ">in the past three years.  In fact, she tried to have her bone marrow\n"
          ],
          "name": "stdout"
        }
      ]
    },
    {
      "cell_type": "code",
      "metadata": {
        "id": "IiQMJBoS55J4",
        "colab_type": "code",
        "colab": {
          "base_uri": "https://localhost:8080/",
          "height": 34
        },
        "outputId": "608a3afc-e653-401e-a4b4-6162ecf1b6e8"
      },
      "source": [
        "print(train_set.target_names[train_set.target[0]])"
      ],
      "execution_count": 35,
      "outputs": [
        {
          "output_type": "stream",
          "text": [
            "sci.med\n"
          ],
          "name": "stdout"
        }
      ]
    },
    {
      "cell_type": "markdown",
      "metadata": {
        "id": "Nm2WQXeq7wee",
        "colab_type": "text"
      },
      "source": [
        "# 2. Training a Word2Vec model"
      ]
    },
    {
      "cell_type": "markdown",
      "metadata": {
        "id": "wqlR8EQVyxlo",
        "colab_type": "text"
      },
      "source": [
        "Now we will train a Word2Vec model which we will use to map each word in each news article to a feature representation. While the best models are trained on very large amounts of data, due to resources, we will use a model trained on this small corpus.\n",
        "\n",
        "First we pre-process the data into lists of words."
      ]
    },
    {
      "cell_type": "code",
      "metadata": {
        "id": "l7LUiNMJyjmQ",
        "colab_type": "code",
        "colab": {}
      },
      "source": [
        "parsed_train_data = []\n",
        "for article in train_set.data:\n",
        "  parsed_train_data.append(article.replace('\\n',' ').split())"
      ],
      "execution_count": 0,
      "outputs": []
    },
    {
      "cell_type": "markdown",
      "metadata": {
        "id": "WSLO2Un5-6rN",
        "colab_type": "text"
      },
      "source": [
        "Train the model."
      ]
    },
    {
      "cell_type": "code",
      "metadata": {
        "id": "6AnxiOTQzxbe",
        "colab_type": "code",
        "colab": {}
      },
      "source": [
        "from gensim.models import Word2Vec\n",
        "\n",
        "feature_length = 50\n",
        "\n",
        "word2vec_model = Word2Vec(\n",
        "    sentences=parsed_train_data,\n",
        "    window=5,\n",
        "    sg=1,       # Use skip-gram\n",
        "    size=feature_length\n",
        ")"
      ],
      "execution_count": 0,
      "outputs": []
    },
    {
      "cell_type": "markdown",
      "metadata": {
        "id": "GtoED80r_VNq",
        "colab_type": "text"
      },
      "source": [
        "How good is it? Sanity check..."
      ]
    },
    {
      "cell_type": "code",
      "metadata": {
        "id": "GVfIoTa0_ZsK",
        "colab_type": "code",
        "colab": {
          "base_uri": "https://localhost:8080/",
          "height": 190
        },
        "outputId": "f0a83545-21af-4de3-a07d-955b0e1bd491"
      },
      "source": [
        "word2vec_model.most_similar(\"disease\", topn=5)"
      ],
      "execution_count": 86,
      "outputs": [
        {
          "output_type": "stream",
          "text": [
            "/usr/local/lib/python3.6/dist-packages/ipykernel_launcher.py:1: DeprecationWarning: Call to deprecated `most_similar` (Method will be removed in 4.0.0, use self.wv.most_similar() instead).\n",
            "  \"\"\"Entry point for launching an IPython kernel.\n",
            "/usr/local/lib/python3.6/dist-packages/gensim/matutils.py:737: FutureWarning: Conversion of the second argument of issubdtype from `int` to `np.signedinteger` is deprecated. In future, it will be treated as `np.int64 == np.dtype(int).type`.\n",
            "  if np.issubdtype(vec.dtype, np.int):\n"
          ],
          "name": "stderr"
        },
        {
          "output_type": "execute_result",
          "data": {
            "text/plain": [
              "[('common', 0.9158620834350586),\n",
              " ('evidence', 0.9105513095855713),\n",
              " ('cancer', 0.9032063484191895),\n",
              " ('treatment', 0.8932008147239685),\n",
              " ('therapies', 0.8925598859786987)]"
            ]
          },
          "metadata": {
            "tags": []
          },
          "execution_count": 86
        }
      ]
    },
    {
      "cell_type": "code",
      "metadata": {
        "id": "4DAo_PMyz6em",
        "colab_type": "code",
        "colab": {
          "base_uri": "https://localhost:8080/",
          "height": 190
        },
        "outputId": "eccb9bac-63bd-4858-a94d-e305aa2b65fa"
      },
      "source": [
        "word2vec_model.most_similar(\"baseball\", topn=5)"
      ],
      "execution_count": 87,
      "outputs": [
        {
          "output_type": "stream",
          "text": [
            "/usr/local/lib/python3.6/dist-packages/ipykernel_launcher.py:1: DeprecationWarning: Call to deprecated `most_similar` (Method will be removed in 4.0.0, use self.wv.most_similar() instead).\n",
            "  \"\"\"Entry point for launching an IPython kernel.\n",
            "/usr/local/lib/python3.6/dist-packages/gensim/matutils.py:737: FutureWarning: Conversion of the second argument of issubdtype from `int` to `np.signedinteger` is deprecated. In future, it will be treated as `np.int64 == np.dtype(int).type`.\n",
            "  if np.issubdtype(vec.dtype, np.int):\n"
          ],
          "name": "stderr"
        },
        {
          "output_type": "execute_result",
          "data": {
            "text/plain": [
              "[('record', 0.9091603755950928),\n",
              " ('baseball.', 0.9035422205924988),\n",
              " ('fans', 0.895762026309967),\n",
              " ('weekend', 0.8953852653503418),\n",
              " ('division', 0.894350528717041)]"
            ]
          },
          "metadata": {
            "tags": []
          },
          "execution_count": 87
        }
      ]
    },
    {
      "cell_type": "markdown",
      "metadata": {
        "id": "XktqzfRhAEtf",
        "colab_type": "text"
      },
      "source": [
        "What is the feature representation for one word?"
      ]
    },
    {
      "cell_type": "code",
      "metadata": {
        "id": "LRznixyfAH8X",
        "colab_type": "code",
        "colab": {
          "base_uri": "https://localhost:8080/",
          "height": 258
        },
        "outputId": "7d30c401-9a66-4ca0-edaa-43d2086db139"
      },
      "source": [
        "word2vec_model[\"baseball\"]"
      ],
      "execution_count": 88,
      "outputs": [
        {
          "output_type": "stream",
          "text": [
            "/usr/local/lib/python3.6/dist-packages/ipykernel_launcher.py:1: DeprecationWarning: Call to deprecated `__getitem__` (Method will be removed in 4.0.0, use self.wv.__getitem__() instead).\n",
            "  \"\"\"Entry point for launching an IPython kernel.\n"
          ],
          "name": "stderr"
        },
        {
          "output_type": "execute_result",
          "data": {
            "text/plain": [
              "array([-0.37614304, -0.3212539 , -0.26331714,  0.34663174, -0.3686967 ,\n",
              "        0.5305655 , -0.45642254, -0.19874948,  0.05603094, -0.02632546,\n",
              "        0.8142622 ,  0.3124014 ,  0.55586684, -0.10897265, -0.34950596,\n",
              "       -0.11198868,  0.28666997,  0.3239095 , -0.2045929 ,  0.32176694,\n",
              "        0.05813552, -0.32818332, -0.17730637,  0.15533252,  0.07652529,\n",
              "        0.03418873, -0.10511762, -0.36643463, -0.18065734, -0.2037365 ,\n",
              "       -0.5100552 ,  0.03527943, -0.65899163,  0.2539918 ,  0.12292019,\n",
              "        0.40873972, -0.4972573 ,  0.08840751,  0.288882  ,  0.27199146,\n",
              "       -0.10281499,  0.01606054, -0.13584733,  0.17722136,  0.22349799,\n",
              "        0.06968982,  0.01924053,  0.22805476, -0.4551319 , -0.18421626],\n",
              "      dtype=float32)"
            ]
          },
          "metadata": {
            "tags": []
          },
          "execution_count": 88
        }
      ]
    },
    {
      "cell_type": "markdown",
      "metadata": {
        "id": "x9axD6V5_3Bh",
        "colab_type": "text"
      },
      "source": [
        "# 3. Performing classification on news articles using feature embeddings\n",
        "\n",
        "Finally, we will represent each news article as a block of word features, and perform classification on the embedded representations.\n",
        "\n",
        "As an over-simplification of the problem (for the purposes of illustration), we will choose the N first words to represent an article so that all our article sizes are fixed."
      ]
    },
    {
      "cell_type": "code",
      "metadata": {
        "id": "P9WJeqvnE_Ph",
        "colab_type": "code",
        "colab": {}
      },
      "source": [
        "article_size = 13 * feature_length"
      ],
      "execution_count": 0,
      "outputs": []
    },
    {
      "cell_type": "code",
      "metadata": {
        "id": "YWYY3zHXIUkt",
        "colab_type": "code",
        "colab": {}
      },
      "source": [
        "import numpy as np\n",
        "\n",
        "def embed_article(article, cutoff):\n",
        "  # Save the feature representation for each word in the article\n",
        "  embedded_article = []\n",
        "  for word in article:\n",
        "    try:\n",
        "      embedded_article.append(word2vec_model[word])\n",
        "    except(KeyError): # Ignore words not in the model vocabulary\n",
        "      pass\n",
        "  return np.array(embedded_article).flatten()[:cutoff]"
      ],
      "execution_count": 0,
      "outputs": []
    },
    {
      "cell_type": "code",
      "metadata": {
        "id": "bvjf7Ow1AzJs",
        "colab_type": "code",
        "colab": {
          "base_uri": "https://localhost:8080/",
          "height": 71
        },
        "outputId": "ecd7b539-7f8a-4337-9a33-20078ea23b8e"
      },
      "source": [
        "embedded_train_set = []\n",
        "\n",
        "for article in parsed_train_data:\n",
        "  embedded_train_set.append(embed_article(article, article_size))"
      ],
      "execution_count": 130,
      "outputs": [
        {
          "output_type": "stream",
          "text": [
            "/usr/local/lib/python3.6/dist-packages/ipykernel_launcher.py:6: DeprecationWarning: Call to deprecated `__getitem__` (Method will be removed in 4.0.0, use self.wv.__getitem__() instead).\n",
            "  \n"
          ],
          "name": "stderr"
        }
      ]
    },
    {
      "cell_type": "markdown",
      "metadata": {
        "id": "1w5UV_V6B2Xw",
        "colab_type": "text"
      },
      "source": [
        "Now we can try training a simple linear classifier to classify the news articles into their categories. "
      ]
    },
    {
      "cell_type": "code",
      "metadata": {
        "id": "wN4G1K_bBS_n",
        "colab_type": "code",
        "colab": {}
      },
      "source": [
        "from sklearn.linear_model import SGDClassifier"
      ],
      "execution_count": 0,
      "outputs": []
    },
    {
      "cell_type": "code",
      "metadata": {
        "id": "5ZWDSn8ZB0Kn",
        "colab_type": "code",
        "colab": {
          "base_uri": "https://localhost:8080/",
          "height": 119
        },
        "outputId": "2ddff8b2-9bde-4e5b-8525-27225f4913bf"
      },
      "source": [
        "linear_classifier = SGDClassifier()\n",
        "\n",
        "linear_classifier.fit(\n",
        "      embedded_train_set,\n",
        "      train_set.target,\n",
        ")"
      ],
      "execution_count": 124,
      "outputs": [
        {
          "output_type": "execute_result",
          "data": {
            "text/plain": [
              "SGDClassifier(alpha=0.0001, average=False, class_weight=None,\n",
              "              early_stopping=False, epsilon=0.1, eta0=0.0, fit_intercept=True,\n",
              "              l1_ratio=0.15, learning_rate='optimal', loss='hinge',\n",
              "              max_iter=1000, n_iter_no_change=5, n_jobs=None, penalty='l2',\n",
              "              power_t=0.5, random_state=None, shuffle=True, tol=0.001,\n",
              "              validation_fraction=0.1, verbose=0, warm_start=False)"
            ]
          },
          "metadata": {
            "tags": []
          },
          "execution_count": 124
        }
      ]
    },
    {
      "cell_type": "markdown",
      "metadata": {
        "id": "Mim8hOp5Gy5R",
        "colab_type": "text"
      },
      "source": [
        "Can it predict on new articles?"
      ]
    },
    {
      "cell_type": "code",
      "metadata": {
        "id": "G5MmRfMDEMhs",
        "colab_type": "code",
        "colab": {
          "base_uri": "https://localhost:8080/",
          "height": 71
        },
        "outputId": "09aa2102-7266-4863-b5cb-bd955e5f2105"
      },
      "source": [
        "new_articles = [\n",
        "      # Article one - from latest NVidia news\n",
        "      \"Nvidia RTX 2080 Ti Cyberpunk 2077 GPU is revealed – but you can’t buy one.\" +\n",
        "      \"77 limited edition graphics cards are to be given away in a competition\" +\n",
        "      \"The mysterious Cyberpunk 2077-themed GPU Nvidia recently teased has been revealed,\" +\n",
        "      \"and the reality of the graphics card may be a touch disappointing for some folks, in that\" +\n",
        "      \"it isn’t a new model – and you won’t be able to buy one.\" +\n",
        "      \"The card is simply a GeForce RTX 2080 Ti (and appears to be exactly the same model,\" + \n",
        "      \"and shroud design) decked out with the Cyberpunk 2077 colors and logo, which admittedly\" +\n",
        "      \"looks pretty cool, but isn’t the GeForce RTX 2080 Ti Super\" +\n",
        "      \"AMD confirms ‘Nvidia killer’ graphics card will be out in 2020\",\n",
        "      # Article two - from Health -> Oncology\n",
        "      \"Breast cancer test could predict chances of disease return 20 years later, study shows\" +\n",
        "      \"Molecular nature of a woman’s breast cancer determines how their disease could progress,\" +\n",
        "      \"not just for the first five years, but also later,' says researcher\" +\n",
        "      \"A new test could identify breast cancers that are likely to return more than 20 years later\" +\n",
        "      \"development that might herald an era of personalised medicine.\" +\n",
        "      \"The way a patient’s cancer will progress can be determined by categorising molecular and\" +\n",
        "      \"genetic markers of breast tumours into 11 subtypes, University of Cambridge researchers found.\" +  \n",
        "      \"Following around 2,000 women over 20 years, the team funded by the Cancer Research charity found\" +\n",
        "      \"some women with initially aggressive cancers had a low chance of tumours returning after five years.\"\n",
        "]\n",
        "\n",
        "# Parse and embed\n",
        "parsed_na = [a.replace('\\n',' ').split() for a in new_articles]\n",
        "embedded_new_articles = [embed_article(a, article_size) for a in parsed_na]"
      ],
      "execution_count": 139,
      "outputs": [
        {
          "output_type": "stream",
          "text": [
            "/usr/local/lib/python3.6/dist-packages/ipykernel_launcher.py:8: DeprecationWarning: Call to deprecated `__getitem__` (Method will be removed in 4.0.0, use self.wv.__getitem__() instead).\n",
            "  \n"
          ],
          "name": "stderr"
        }
      ]
    },
    {
      "cell_type": "code",
      "metadata": {
        "id": "4hudi7IQIAIB",
        "colab_type": "code",
        "colab": {}
      },
      "source": [
        "predicted = linear_classifier.predict(embedded_new_articles)"
      ],
      "execution_count": 0,
      "outputs": []
    },
    {
      "cell_type": "code",
      "metadata": {
        "id": "wUIjj0DrKEfQ",
        "colab_type": "code",
        "colab": {
          "base_uri": "https://localhost:8080/",
          "height": 51
        },
        "outputId": "f7aeea65-83f9-4d98-ffb3-8663a7378e33"
      },
      "source": [
        "for i, category in enumerate(predicted):\n",
        "  print(\"New article\", i, \" predicted cateogry =>\", train_set.target_names[category])"
      ],
      "execution_count": 143,
      "outputs": [
        {
          "output_type": "stream",
          "text": [
            "New article 0  predicted cateogry => comp.graphics\n",
            "New article 1  predicted cateogry => sci.med\n"
          ],
          "name": "stdout"
        }
      ]
    },
    {
      "cell_type": "code",
      "metadata": {
        "id": "U5XJkagZKcCr",
        "colab_type": "code",
        "colab": {}
      },
      "source": [
        ""
      ],
      "execution_count": 0,
      "outputs": []
    }
  ]
}